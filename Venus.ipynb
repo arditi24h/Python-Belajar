{
 "cells": [
  {
   "cell_type": "markdown",
   "id": "bf879286",
   "metadata": {},
   "source": [
    "<center> <img src=\"https://banner2.cleanpng.com/20181128/cbr/kisspng-python-programming-basics-for-absolute-beginners-michigan-python-user-group-5-jul-2-18-1713916787253.web\" width = \"200\"> </center> <br>\n",
    "Pada jupyter notebooks jenis <b>cell</b> terbagi menjadi <ol>\n",
    "    <li> M = mark down </li>\n",
    "    <li> y = code </li>\n",
    "    </ol>\n",
    "    <hr>"
   ]
  },
  {
   "cell_type": "markdown",
   "id": "db4996d0",
   "metadata": {},
   "source": [
    "perintah perintah dasar umtuk membuat dan menghapus <b>cell</b>\n",
    "<ul>\n",
    "    <li> a untuk menambahkan cell di atas cell aktif <li/>\n",
    "    <li> b untuk menambahkan cell baru dibawah cell<li/>\n",
    "    <li> dd untuk menghapus cell aktif <li/>\n",
    "    </ul>\n",
    "    \n",
    "   <table>\n",
    "     <tr>\n",
    "         <td>perintah </td>\n",
    "         <td>keterangan</td>\n",
    "    </tr>\n",
    "    <tr>\n",
    "        <td>ctrl + enter </td>\n",
    "        <td>untuk menjalankan program dengan fokus di cell aktif</td>\n",
    "    </tr>\n",
    "    <tr>\n",
    "        <td>shift + enter </td>\n",
    "        <td>untuk menjalankan program dengan fokus di cell berikutnya</td>\n",
    "    </tr>\n",
    "    </table>\n",
    "  "
   ]
  },
  {
   "cell_type": "code",
   "execution_count": 2,
   "id": "8e27bc7d",
   "metadata": {},
   "outputs": [
    {
     "name": "stdout",
     "output_type": "stream",
     "text": [
      "Halo dunia\n",
      "4\n"
     ]
    },
    {
     "data": {
      "text/plain": [
       "6"
      ]
     },
     "execution_count": 2,
     "metadata": {},
     "output_type": "execute_result"
    }
   ],
   "source": [
    "#ini adalah komentar\n",
    "print(\"Halo dunia\")\n",
    "data = \"4\"\n",
    "print(int(data + 5 )\n",
    "data\n",
    "3+3"
   ]
  }
 ],
 "metadata": {
  "kernelspec": {
   "display_name": "Python 3 (ipykernel)",
   "language": "python",
   "name": "python3"
  },
  "language_info": {
   "codemirror_mode": {
    "name": "ipython",
    "version": 3
   },
   "file_extension": ".py",
   "mimetype": "text/x-python",
   "name": "python",
   "nbconvert_exporter": "python",
   "pygments_lexer": "ipython3",
   "version": "3.9.12"
  }
 },
 "nbformat": 4,
 "nbformat_minor": 5
}
